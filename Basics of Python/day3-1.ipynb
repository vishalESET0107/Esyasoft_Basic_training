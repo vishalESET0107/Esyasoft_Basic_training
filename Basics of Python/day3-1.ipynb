{
 "cells": [
  {
   "cell_type": "markdown",
   "id": "7decac0b",
   "metadata": {},
   "source": [
    "# Task-1"
   ]
  },
  {
   "cell_type": "markdown",
   "id": "a2d92050",
   "metadata": {},
   "source": [
    "#### Creating a 3x3 matrix using numpy and multiplying each element with 3 and comparing with original matrix "
   ]
  },
  {
   "cell_type": "code",
   "execution_count": 1,
   "id": "03075c79",
   "metadata": {},
   "outputs": [
    {
     "name": "stdout",
     "output_type": "stream",
     "text": [
      "[[1 2 3]\n",
      " [4 5 6]\n",
      " [7 8 9]]\n",
      "[[ 3  6  9]\n",
      " [12 15 18]\n",
      " [21 24 27]]\n"
     ]
    }
   ],
   "source": [
    "import numpy as np \n",
    "arr = np.array([[1,2,3],[4,5,6],[7,8,9]])\n",
    "arr2 = arr * 3\n",
    "print(arr)\n",
    "print(arr2)"
   ]
  },
  {
   "cell_type": "markdown",
   "id": "7ad17c4d",
   "metadata": {},
   "source": [
    "# Task-2"
   ]
  },
  {
   "cell_type": "markdown",
   "id": "7f928902",
   "metadata": {},
   "source": [
    "#### Using pandas to create a DataFrame from a dictionary"
   ]
  },
  {
   "cell_type": "code",
   "execution_count": 5,
   "id": "7d40c50f",
   "metadata": {},
   "outputs": [
    {
     "name": "stdout",
     "output_type": "stream",
     "text": [
      "\n",
      "PandasDataFrame:\n",
      "  Product_Name   Price  Stock_quantity\n",
      "0       Laptop  150000              40\n",
      "1       Mobile   70000             100\n",
      "2     Earphone   15000              90\n"
     ]
    }
   ],
   "source": [
    "import pandas as pd \n",
    "data = {\n",
    "    'Product_Name' : ['Laptop','Mobile','Earphone'],\n",
    "    'Price' : [150000,70000,15000],\n",
    "    'Stock_quantity' : [40,100,90]\n",
    "}\n",
    "df = pd.DataFrame(data)\n",
    "print(f\"\\nPandasDataFrame:\\n{df}\")"
   ]
  },
  {
   "cell_type": "markdown",
   "id": "f9e5a560",
   "metadata": {},
   "source": [
    "# Task-3"
   ]
  },
  {
   "cell_type": "markdown",
   "id": "ae80ebcf",
   "metadata": {},
   "source": [
    "#### Using pandas to perform data filtering to find only and print products with more than 50 stocks"
   ]
  },
  {
   "cell_type": "code",
   "execution_count": 6,
   "id": "3f36bd5c",
   "metadata": {},
   "outputs": [
    {
     "name": "stdout",
     "output_type": "stream",
     "text": [
      "\n",
      "PandasDataFrame:\n",
      "  Product_Name  Price  Stock_quantity\n",
      "1       Mobile  70000             100\n",
      "2     Earphone  15000              90\n"
     ]
    }
   ],
   "source": [
    "filtered_df = df[df['Stock_quantity'] > 50]\n",
    "print(f\"\\nPandasDataFrame:\\n{filtered_df}\")"
   ]
  }
 ],
 "metadata": {
  "kernelspec": {
   "display_name": "Python 3",
   "language": "python",
   "name": "python3"
  },
  "language_info": {
   "codemirror_mode": {
    "name": "ipython",
    "version": 3
   },
   "file_extension": ".py",
   "mimetype": "text/x-python",
   "name": "python",
   "nbconvert_exporter": "python",
   "pygments_lexer": "ipython3",
   "version": "3.11.9"
  }
 },
 "nbformat": 4,
 "nbformat_minor": 5
}
